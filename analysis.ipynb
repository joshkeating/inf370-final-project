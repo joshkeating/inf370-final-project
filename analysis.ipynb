{
 "cells": [
  {
   "cell_type": "markdown",
   "metadata": {},
   "source": [
    "# Predicting Airbnb Listing Prices in Seattle\n",
    "\n",
    "By: Josh Keating, Ethan Katnic, Christian Hahn, Robin Yang"
   ]
  },
  {
   "cell_type": "markdown",
   "metadata": {},
   "source": [
    "## Framing the Problem\n",
    "\n",
    "The purpose of this project is to identify the aspects of Airbnb host listings that have a correlation to the frequency of achieving bookings. This information will allow Airbnb hosts to find and improve certain variables of their listing that can increase their number of bookings. The dataset used was the Seattle Airbnb Open Dataset found on Kaggle (https://www.kaggle.com/airbnb/seattle#calendar.csv). The two CSV files we are using from this set are calendar.csv and listings.csv. The calendar file displays the listing_id, the dates, whether it is available on that date, and the price of booking for that day. The listings file includes a wide variety of metadata scraped from the listing url.\n",
    "\n",
    "On top of the given columns in the dataset, we used the Microsoft Azure Text Sentiment Analysis API to calculate the sentiment value (on a scale of 1 - 100) of the listing summary. Positive and negative sentiment can be identified and perhaps has a correlation to number of bookings. This was done using post requests on Postman and is known as scores.csv. "
   ]
  },
  {
   "cell_type": "markdown",
   "metadata": {},
   "source": [
    "## Import Libraries and Data"
   ]
  },
  {
   "cell_type": "code",
   "execution_count": 37,
   "metadata": {},
   "outputs": [],
   "source": [
    "#import\n",
    "import matplotlib.pyplot as plt\n",
    "import numpy as np\n",
    "import pandas as pd\n",
    "import seaborn as sns\n",
    "import warnings\n",
    "import random\n",
    "warnings.filterwarnings('ignore')\n",
    "from datetime import datetime\n",
    "from sklearn.preprocessing import MinMaxScaler\n",
    "from sklearn.preprocessing import PolynomialFeatures\n",
    "from sklearn.feature_selection import SelectKBest\n",
    "from sklearn.feature_selection import VarianceThreshold\n",
    "from sklearn.model_selection import train_test_split\n",
    "from sklearn.neighbors import KNeighborsRegressor\n",
    "from sklearn.model_selection import GridSearchCV\n",
    "from sklearn.pipeline import make_pipeline\n",
    "from sklearn.preprocessing import Imputer\n",
    "from sklearn.ensemble import RandomForestRegressor\n",
    "from sklearn.linear_model import LinearRegression\n",
    "import statsmodels.formula.api as smf\n",
    "\n",
    "from sklearn.neural_network import MLPRegressor"
   ]
  },
  {
   "cell_type": "code",
   "execution_count": 38,
   "metadata": {},
   "outputs": [],
   "source": [
    "# read in clean data\n",
    "airbnb_data_dummies = pd.read_csv('data/cleaned-listings-dummies.csv')\n",
    "airbnb_data_basic = pd.read_csv('data/cleaned-listings-base.csv')\n"
   ]
  },
  {
   "cell_type": "code",
   "execution_count": 39,
   "metadata": {},
   "outputs": [],
   "source": [
    "# Rename features with spaces in their names\n",
    "airbnb_data_dummies.rename(index=str, columns={\n",
    "    'neighbourhood_Beacon Hill': 'neighbourhood_Beacon_Hill',\n",
    "    'neighbourhood_Capitol Hill': 'neighbourhood_Capitol_Hill',\n",
    "    'neighbourhood_Central Area': 'neighbourhood_Central_Area',\n",
    "    'neighbourhood_Lake City': 'neighbourhood_Lake_City',\n",
    "    'neighbourhood_Other neighborhoods': 'neighbourhood_Other_neighborhoods',\n",
    "    'neighbourhood_Queen Anne': 'neighbourhood_Queen_Anne',\n",
    "    'neighbourhood_Rainier Valley': 'neighbourhood_Rainier_Valley',\n",
    "    'neighbourhood_Seward Park': 'neighbourhood_Seward_Park',\n",
    "    'neighbourhood_University District': 'neighbourhood_University_District',\n",
    "    'neighbourhood_West Seattle': 'neighbourhood_West_Seattle',\n",
    "    'property_type_Bed & Breakfast': 'property_type_Bed_Breakfast',\n",
    "    'room_type_Entire home/apt': 'room_type_Entire_home_apt',\n",
    "    'room_type_Private room': 'room_type_Private_room',\n",
    "    'room_type_Shared room': 'room_type_Shared_room'\n",
    "}, inplace=True)\n"
   ]
  },
  {
   "cell_type": "code",
   "execution_count": 40,
   "metadata": {
    "scrolled": true
   },
   "outputs": [],
   "source": [
    "# list(airbnb_data_dummies.columns.values)\n",
    "# airbnb_data_dummies"
   ]
  },
  {
   "cell_type": "markdown",
   "metadata": {},
   "source": [
    "### Use this regression to defend our feature selection"
   ]
  },
  {
   "cell_type": "code",
   "execution_count": 41,
   "metadata": {},
   "outputs": [
    {
     "data": {
      "text/html": [
       "<table class=\"simpletable\">\n",
       "<caption>OLS Regression Results</caption>\n",
       "<tr>\n",
       "  <th>Dep. Variable:</th>          <td>price</td>      <th>  R-squared:         </th> <td>   0.581</td> \n",
       "</tr>\n",
       "<tr>\n",
       "  <th>Model:</th>                   <td>OLS</td>       <th>  Adj. R-squared:    </th> <td>   0.577</td> \n",
       "</tr>\n",
       "<tr>\n",
       "  <th>Method:</th>             <td>Least Squares</td>  <th>  F-statistic:       </th> <td>   130.4</td> \n",
       "</tr>\n",
       "<tr>\n",
       "  <th>Date:</th>             <td>Mon, 03 Dec 2018</td> <th>  Prob (F-statistic):</th>  <td>  0.00</td>  \n",
       "</tr>\n",
       "<tr>\n",
       "  <th>Time:</th>                 <td>21:16:19</td>     <th>  Log-Likelihood:    </th> <td> -20310.</td> \n",
       "</tr>\n",
       "<tr>\n",
       "  <th>No. Observations:</th>      <td>  3705</td>      <th>  AIC:               </th> <td>4.070e+04</td>\n",
       "</tr>\n",
       "<tr>\n",
       "  <th>Df Residuals:</th>          <td>  3665</td>      <th>  BIC:               </th> <td>4.095e+04</td>\n",
       "</tr>\n",
       "<tr>\n",
       "  <th>Df Model:</th>              <td>    39</td>      <th>                     </th>     <td> </td>    \n",
       "</tr>\n",
       "<tr>\n",
       "  <th>Covariance Type:</th>      <td>nonrobust</td>    <th>                     </th>     <td> </td>    \n",
       "</tr>\n",
       "</table>\n",
       "<table class=\"simpletable\">\n",
       "<tr>\n",
       "                  <td></td>                     <th>coef</th>     <th>std err</th>      <th>t</th>      <th>P>|t|</th>  <th>[0.025</th>    <th>0.975]</th>  \n",
       "</tr>\n",
       "<tr>\n",
       "  <th>Intercept</th>                         <td>  -38.1985</td> <td>   15.877</td> <td>   -2.406</td> <td> 0.016</td> <td>  -69.327</td> <td>   -7.070</td>\n",
       "</tr>\n",
       "<tr>\n",
       "  <th>host_response_rate</th>                <td>   -0.1517</td> <td>    0.089</td> <td>   -1.697</td> <td> 0.090</td> <td>   -0.327</td> <td>    0.024</td>\n",
       "</tr>\n",
       "<tr>\n",
       "  <th>accommodates</th>                      <td>    7.5074</td> <td>    1.171</td> <td>    6.412</td> <td> 0.000</td> <td>    5.212</td> <td>    9.803</td>\n",
       "</tr>\n",
       "<tr>\n",
       "  <th>guests_included</th>                   <td>    3.3175</td> <td>    0.877</td> <td>    3.781</td> <td> 0.000</td> <td>    1.597</td> <td>    5.038</td>\n",
       "</tr>\n",
       "<tr>\n",
       "  <th>bathrooms</th>                         <td>   27.5263</td> <td>    2.229</td> <td>   12.350</td> <td> 0.000</td> <td>   23.156</td> <td>   31.896</td>\n",
       "</tr>\n",
       "<tr>\n",
       "  <th>bedrooms</th>                          <td>   32.3673</td> <td>    2.044</td> <td>   15.832</td> <td> 0.000</td> <td>   28.359</td> <td>   36.376</td>\n",
       "</tr>\n",
       "<tr>\n",
       "  <th>beds</th>                              <td>    1.0758</td> <td>    1.777</td> <td>    0.605</td> <td> 0.545</td> <td>   -2.408</td> <td>    4.560</td>\n",
       "</tr>\n",
       "<tr>\n",
       "  <th>number_of_reviews</th>                 <td>   -0.1538</td> <td>    0.028</td> <td>   -5.505</td> <td> 0.000</td> <td>   -0.209</td> <td>   -0.099</td>\n",
       "</tr>\n",
       "<tr>\n",
       "  <th>review_scores_rating</th>              <td>    0.6969</td> <td>    0.265</td> <td>    2.628</td> <td> 0.009</td> <td>    0.177</td> <td>    1.217</td>\n",
       "</tr>\n",
       "<tr>\n",
       "  <th>review_scores_accuracy</th>            <td>    2.7688</td> <td>    2.038</td> <td>    1.359</td> <td> 0.174</td> <td>   -1.226</td> <td>    6.764</td>\n",
       "</tr>\n",
       "<tr>\n",
       "  <th>review_scores_cleanliness</th>         <td>    2.4932</td> <td>    1.785</td> <td>    1.397</td> <td> 0.163</td> <td>   -1.007</td> <td>    5.993</td>\n",
       "</tr>\n",
       "<tr>\n",
       "  <th>review_scores_checkin</th>             <td>   -0.5157</td> <td>    2.521</td> <td>   -0.205</td> <td> 0.838</td> <td>   -5.458</td> <td>    4.426</td>\n",
       "</tr>\n",
       "<tr>\n",
       "  <th>review_scores_communication</th>       <td>    0.3984</td> <td>    2.704</td> <td>    0.147</td> <td> 0.883</td> <td>   -4.904</td> <td>    5.701</td>\n",
       "</tr>\n",
       "<tr>\n",
       "  <th>review_scores_location</th>            <td>    4.4394</td> <td>    1.965</td> <td>    2.260</td> <td> 0.024</td> <td>    0.588</td> <td>    8.291</td>\n",
       "</tr>\n",
       "<tr>\n",
       "  <th>review_scores_value</th>               <td>   -8.4751</td> <td>    2.048</td> <td>   -4.137</td> <td> 0.000</td> <td>  -12.491</td> <td>   -4.459</td>\n",
       "</tr>\n",
       "<tr>\n",
       "  <th>score</th>                             <td>   -3.3947</td> <td>    5.496</td> <td>   -0.618</td> <td> 0.537</td> <td>  -14.170</td> <td>    7.381</td>\n",
       "</tr>\n",
       "<tr>\n",
       "  <th>host_is_superhost</th>                 <td>    7.1544</td> <td>    2.561</td> <td>    2.794</td> <td> 0.005</td> <td>    2.134</td> <td>   12.175</td>\n",
       "</tr>\n",
       "<tr>\n",
       "  <th>neighbourhood_Ballard</th>             <td>   -6.7646</td> <td>    4.258</td> <td>   -1.589</td> <td> 0.112</td> <td>  -15.112</td> <td>    1.583</td>\n",
       "</tr>\n",
       "<tr>\n",
       "  <th>neighbourhood_Cascade</th>             <td>   23.9847</td> <td>    6.400</td> <td>    3.748</td> <td> 0.000</td> <td>   11.437</td> <td>   36.532</td>\n",
       "</tr>\n",
       "<tr>\n",
       "  <th>neighbourhood_Delridge</th>            <td>  -24.4239</td> <td>    6.541</td> <td>   -3.734</td> <td> 0.000</td> <td>  -37.249</td> <td>  -11.599</td>\n",
       "</tr>\n",
       "<tr>\n",
       "  <th>neighbourhood_Downtown</th>            <td>   33.2335</td> <td>    3.466</td> <td>    9.589</td> <td> 0.000</td> <td>   26.439</td> <td>   40.028</td>\n",
       "</tr>\n",
       "<tr>\n",
       "  <th>neighbourhood_Interbay</th>            <td>    8.5666</td> <td>   17.567</td> <td>    0.488</td> <td> 0.626</td> <td>  -25.875</td> <td>   43.008</td>\n",
       "</tr>\n",
       "<tr>\n",
       "  <th>neighbourhood_Magnolia</th>            <td>   17.3982</td> <td>    7.365</td> <td>    2.362</td> <td> 0.018</td> <td>    2.959</td> <td>   31.838</td>\n",
       "</tr>\n",
       "<tr>\n",
       "  <th>neighbourhood_Northgate</th>           <td>  -30.3875</td> <td>    6.773</td> <td>   -4.487</td> <td> 0.000</td> <td>  -43.667</td> <td>  -17.108</td>\n",
       "</tr>\n",
       "<tr>\n",
       "  <th>property_type_Apartment</th>           <td>  -17.6228</td> <td>    3.769</td> <td>   -4.675</td> <td> 0.000</td> <td>  -25.013</td> <td>  -10.232</td>\n",
       "</tr>\n",
       "<tr>\n",
       "  <th>property_type_Condominium</th>         <td>  -12.4280</td> <td>    6.382</td> <td>   -1.947</td> <td> 0.052</td> <td>  -24.940</td> <td>    0.084</td>\n",
       "</tr>\n",
       "<tr>\n",
       "  <th>property_type_House</th>               <td>  -10.9984</td> <td>    3.748</td> <td>   -2.935</td> <td> 0.003</td> <td>  -18.346</td> <td>   -3.650</td>\n",
       "</tr>\n",
       "<tr>\n",
       "  <th>property_type_Loft</th>                <td>   16.5570</td> <td>    8.607</td> <td>    1.924</td> <td> 0.054</td> <td>   -0.318</td> <td>   33.432</td>\n",
       "</tr>\n",
       "<tr>\n",
       "  <th>property_type_Townhouse</th>           <td>  -17.6875</td> <td>    5.885</td> <td>   -3.006</td> <td> 0.003</td> <td>  -29.225</td> <td>   -6.150</td>\n",
       "</tr>\n",
       "<tr>\n",
       "  <th>neighbourhood_Beacon_Hill</th>         <td>  -17.8644</td> <td>    5.644</td> <td>   -3.165</td> <td> 0.002</td> <td>  -28.930</td> <td>   -6.799</td>\n",
       "</tr>\n",
       "<tr>\n",
       "  <th>neighbourhood_Capitol_Hill</th>        <td>   16.5744</td> <td>    3.217</td> <td>    5.152</td> <td> 0.000</td> <td>   10.268</td> <td>   22.881</td>\n",
       "</tr>\n",
       "<tr>\n",
       "  <th>neighbourhood_Central_Area</th>        <td>   -5.5418</td> <td>    3.495</td> <td>   -1.586</td> <td> 0.113</td> <td>  -12.394</td> <td>    1.311</td>\n",
       "</tr>\n",
       "<tr>\n",
       "  <th>neighbourhood_Lake_City</th>           <td>  -14.4291</td> <td>    7.084</td> <td>   -2.037</td> <td> 0.042</td> <td>  -28.318</td> <td>   -0.540</td>\n",
       "</tr>\n",
       "<tr>\n",
       "  <th>neighbourhood_Other_neighborhoods</th> <td>   -9.2255</td> <td>    2.797</td> <td>   -3.299</td> <td> 0.001</td> <td>  -14.709</td> <td>   -3.742</td>\n",
       "</tr>\n",
       "<tr>\n",
       "  <th>neighbourhood_Queen_Anne</th>          <td>   24.7549</td> <td>    3.901</td> <td>    6.346</td> <td> 0.000</td> <td>   17.107</td> <td>   32.403</td>\n",
       "</tr>\n",
       "<tr>\n",
       "  <th>neighbourhood_Rainier_Valley</th>      <td>  -23.8901</td> <td>    4.895</td> <td>   -4.880</td> <td> 0.000</td> <td>  -33.488</td> <td>  -14.292</td>\n",
       "</tr>\n",
       "<tr>\n",
       "  <th>neighbourhood_Seward_Park</th>         <td>  -20.0407</td> <td>    8.551</td> <td>   -2.344</td> <td> 0.019</td> <td>  -36.806</td> <td>   -3.276</td>\n",
       "</tr>\n",
       "<tr>\n",
       "  <th>neighbourhood_University_District</th> <td>   -9.5054</td> <td>    5.347</td> <td>   -1.778</td> <td> 0.076</td> <td>  -19.989</td> <td>    0.979</td>\n",
       "</tr>\n",
       "<tr>\n",
       "  <th>neighbourhood_West_Seattle</th>        <td>   -0.6377</td> <td>    4.478</td> <td>   -0.142</td> <td> 0.887</td> <td>   -9.417</td> <td>    8.141</td>\n",
       "</tr>\n",
       "<tr>\n",
       "  <th>property_type_Bed_Breakfast</th>       <td>    3.9811</td> <td>    8.991</td> <td>    0.443</td> <td> 0.658</td> <td>  -13.647</td> <td>   21.609</td>\n",
       "</tr>\n",
       "<tr>\n",
       "  <th>room_type_Entire_home_apt</th>         <td>   20.4465</td> <td>    5.817</td> <td>    3.515</td> <td> 0.000</td> <td>    9.041</td> <td>   31.852</td>\n",
       "</tr>\n",
       "<tr>\n",
       "  <th>room_type_Private_room</th>            <td>  -14.1753</td> <td>    5.670</td> <td>   -2.500</td> <td> 0.012</td> <td>  -25.293</td> <td>   -3.058</td>\n",
       "</tr>\n",
       "<tr>\n",
       "  <th>room_type_Shared_room</th>             <td>  -44.4698</td> <td>    6.684</td> <td>   -6.654</td> <td> 0.000</td> <td>  -57.574</td> <td>  -31.366</td>\n",
       "</tr>\n",
       "</table>\n",
       "<table class=\"simpletable\">\n",
       "<tr>\n",
       "  <th>Omnibus:</th>       <td>3303.104</td> <th>  Durbin-Watson:     </th>  <td>   2.001</td> \n",
       "</tr>\n",
       "<tr>\n",
       "  <th>Prob(Omnibus):</th>  <td> 0.000</td>  <th>  Jarque-Bera (JB):  </th> <td>255067.064</td>\n",
       "</tr>\n",
       "<tr>\n",
       "  <th>Skew:</th>           <td> 3.900</td>  <th>  Prob(JB):          </th>  <td>    0.00</td> \n",
       "</tr>\n",
       "<tr>\n",
       "  <th>Kurtosis:</th>       <td>42.893</td>  <th>  Cond. No.          </th>  <td>7.03e+16</td> \n",
       "</tr>\n",
       "</table><br/><br/>Warnings:<br/>[1] Standard Errors assume that the covariance matrix of the errors is correctly specified.<br/>[2] The smallest eigenvalue is 1.44e-26. This might indicate that there are<br/>strong multicollinearity problems or that the design matrix is singular."
      ],
      "text/plain": [
       "<class 'statsmodels.iolib.summary.Summary'>\n",
       "\"\"\"\n",
       "                            OLS Regression Results                            \n",
       "==============================================================================\n",
       "Dep. Variable:                  price   R-squared:                       0.581\n",
       "Model:                            OLS   Adj. R-squared:                  0.577\n",
       "Method:                 Least Squares   F-statistic:                     130.4\n",
       "Date:                Mon, 03 Dec 2018   Prob (F-statistic):               0.00\n",
       "Time:                        21:16:19   Log-Likelihood:                -20310.\n",
       "No. Observations:                3705   AIC:                         4.070e+04\n",
       "Df Residuals:                    3665   BIC:                         4.095e+04\n",
       "Df Model:                          39                                         \n",
       "Covariance Type:            nonrobust                                         \n",
       "=====================================================================================================\n",
       "                                        coef    std err          t      P>|t|      [0.025      0.975]\n",
       "-----------------------------------------------------------------------------------------------------\n",
       "Intercept                           -38.1985     15.877     -2.406      0.016     -69.327      -7.070\n",
       "host_response_rate                   -0.1517      0.089     -1.697      0.090      -0.327       0.024\n",
       "accommodates                          7.5074      1.171      6.412      0.000       5.212       9.803\n",
       "guests_included                       3.3175      0.877      3.781      0.000       1.597       5.038\n",
       "bathrooms                            27.5263      2.229     12.350      0.000      23.156      31.896\n",
       "bedrooms                             32.3673      2.044     15.832      0.000      28.359      36.376\n",
       "beds                                  1.0758      1.777      0.605      0.545      -2.408       4.560\n",
       "number_of_reviews                    -0.1538      0.028     -5.505      0.000      -0.209      -0.099\n",
       "review_scores_rating                  0.6969      0.265      2.628      0.009       0.177       1.217\n",
       "review_scores_accuracy                2.7688      2.038      1.359      0.174      -1.226       6.764\n",
       "review_scores_cleanliness             2.4932      1.785      1.397      0.163      -1.007       5.993\n",
       "review_scores_checkin                -0.5157      2.521     -0.205      0.838      -5.458       4.426\n",
       "review_scores_communication           0.3984      2.704      0.147      0.883      -4.904       5.701\n",
       "review_scores_location                4.4394      1.965      2.260      0.024       0.588       8.291\n",
       "review_scores_value                  -8.4751      2.048     -4.137      0.000     -12.491      -4.459\n",
       "score                                -3.3947      5.496     -0.618      0.537     -14.170       7.381\n",
       "host_is_superhost                     7.1544      2.561      2.794      0.005       2.134      12.175\n",
       "neighbourhood_Ballard                -6.7646      4.258     -1.589      0.112     -15.112       1.583\n",
       "neighbourhood_Cascade                23.9847      6.400      3.748      0.000      11.437      36.532\n",
       "neighbourhood_Delridge              -24.4239      6.541     -3.734      0.000     -37.249     -11.599\n",
       "neighbourhood_Downtown               33.2335      3.466      9.589      0.000      26.439      40.028\n",
       "neighbourhood_Interbay                8.5666     17.567      0.488      0.626     -25.875      43.008\n",
       "neighbourhood_Magnolia               17.3982      7.365      2.362      0.018       2.959      31.838\n",
       "neighbourhood_Northgate             -30.3875      6.773     -4.487      0.000     -43.667     -17.108\n",
       "property_type_Apartment             -17.6228      3.769     -4.675      0.000     -25.013     -10.232\n",
       "property_type_Condominium           -12.4280      6.382     -1.947      0.052     -24.940       0.084\n",
       "property_type_House                 -10.9984      3.748     -2.935      0.003     -18.346      -3.650\n",
       "property_type_Loft                   16.5570      8.607      1.924      0.054      -0.318      33.432\n",
       "property_type_Townhouse             -17.6875      5.885     -3.006      0.003     -29.225      -6.150\n",
       "neighbourhood_Beacon_Hill           -17.8644      5.644     -3.165      0.002     -28.930      -6.799\n",
       "neighbourhood_Capitol_Hill           16.5744      3.217      5.152      0.000      10.268      22.881\n",
       "neighbourhood_Central_Area           -5.5418      3.495     -1.586      0.113     -12.394       1.311\n",
       "neighbourhood_Lake_City             -14.4291      7.084     -2.037      0.042     -28.318      -0.540\n",
       "neighbourhood_Other_neighborhoods    -9.2255      2.797     -3.299      0.001     -14.709      -3.742\n",
       "neighbourhood_Queen_Anne             24.7549      3.901      6.346      0.000      17.107      32.403\n",
       "neighbourhood_Rainier_Valley        -23.8901      4.895     -4.880      0.000     -33.488     -14.292\n",
       "neighbourhood_Seward_Park           -20.0407      8.551     -2.344      0.019     -36.806      -3.276\n",
       "neighbourhood_University_District    -9.5054      5.347     -1.778      0.076     -19.989       0.979\n",
       "neighbourhood_West_Seattle           -0.6377      4.478     -0.142      0.887      -9.417       8.141\n",
       "property_type_Bed_Breakfast           3.9811      8.991      0.443      0.658     -13.647      21.609\n",
       "room_type_Entire_home_apt            20.4465      5.817      3.515      0.000       9.041      31.852\n",
       "room_type_Private_room              -14.1753      5.670     -2.500      0.012     -25.293      -3.058\n",
       "room_type_Shared_room               -44.4698      6.684     -6.654      0.000     -57.574     -31.366\n",
       "==============================================================================\n",
       "Omnibus:                     3303.104   Durbin-Watson:                   2.001\n",
       "Prob(Omnibus):                  0.000   Jarque-Bera (JB):           255067.064\n",
       "Skew:                           3.900   Prob(JB):                         0.00\n",
       "Kurtosis:                      42.893   Cond. No.                     7.03e+16\n",
       "==============================================================================\n",
       "\n",
       "Warnings:\n",
       "[1] Standard Errors assume that the covariance matrix of the errors is correctly specified.\n",
       "[2] The smallest eigenvalue is 1.44e-26. This might indicate that there are\n",
       "strong multicollinearity problems or that the design matrix is singular.\n",
       "\"\"\""
      ]
     },
     "execution_count": 41,
     "metadata": {},
     "output_type": "execute_result"
    }
   ],
   "source": [
    "formula = 'price ~ host_response_rate + accommodates + guests_included + bathrooms + bedrooms + beds + number_of_reviews + review_scores_rating + review_scores_accuracy + review_scores_cleanliness + review_scores_checkin + review_scores_communication + review_scores_location + review_scores_value + score + host_is_superhost + neighbourhood_Ballard  + neighbourhood_Cascade  + neighbourhood_Delridge + neighbourhood_Downtown + neighbourhood_Interbay + neighbourhood_Magnolia + neighbourhood_Northgate + property_type_Apartment  + property_type_Condominium + property_type_House + property_type_Loft + property_type_Townhouse + neighbourhood_Beacon_Hill + neighbourhood_Capitol_Hill + neighbourhood_Central_Area + neighbourhood_Lake_City + neighbourhood_Other_neighborhoods + neighbourhood_Queen_Anne + neighbourhood_Rainier_Valley + neighbourhood_Seward_Park + neighbourhood_University_District + neighbourhood_West_Seattle + property_type_Bed_Breakfast + room_type_Entire_home_apt + room_type_Private_room + room_type_Shared_room'\n",
    "\n",
    "mod1 = smf.ols(formula=formula, data=airbnb_data_dummies).fit()\n",
    "mod1.summary()"
   ]
  },
  {
   "cell_type": "code",
   "execution_count": 42,
   "metadata": {},
   "outputs": [],
   "source": [
    "# mod1_pred = mod1.predict(airbnb_data_dummies)\n",
    "# mod1_pred"
   ]
  },
  {
   "cell_type": "markdown",
   "metadata": {},
   "source": [
    "## Data Visualizations"
   ]
  },
  {
   "cell_type": "markdown",
   "metadata": {},
   "source": [
    "A heatmap to view the correlations between variables right off the bat. The values are squared to see simple correlations rather than including negative correlations. We are most interested in those that are correlated with price, whcih include the number it accomodates nd number of bedrooms."
   ]
  },
  {
   "cell_type": "code",
   "execution_count": 43,
   "metadata": {},
   "outputs": [
    {
     "data": {
      "text/plain": [
       "<matplotlib.axes._subplots.AxesSubplot at 0x10b05d3c8>"
      ]
     },
     "execution_count": 43,
     "metadata": {},
     "output_type": "execute_result"
    },
    {
     "data": {
      "image/png": "[encoded data removed]",
      "text/plain": [
       "<Figure size 432x288 with 2 Axes>"
      ]
     },
     "metadata": {},
     "output_type": "display_data"
    }
   ],
   "source": [
    "sns.heatmap(airbnb_data_basic.corr()**2)"
   ]
  },
  {
   "cell_type": "markdown",
   "metadata": {},
   "source": [
    "Using the sentiment score calculated from the listing description, we visualized it against price. It was interesting to see that the few that had low sentiment had the lowest prices. Most tended to have high sentiment, which was expected as the descriptions are intended to sell the home."
   ]
  },
  {
   "cell_type": "code",
   "execution_count": 44,
   "metadata": {},
   "outputs": [
    {
     "data": {
      "text/plain": [
       "Text(0.5,1,'Sentiment Score vs. Price')"
      ]
     },
     "execution_count": 44,
     "metadata": {},
     "output_type": "execute_result"
    },
    {
     "data": {
      "image/png": "[encoded data removed]",
      "text/plain": [
       "<Figure size 432x288 with 1 Axes>"
      ]
     },
     "metadata": {},
     "output_type": "display_data"
    }
   ],
   "source": [
    "plt.scatter(airbnb_data_basic['score'], airbnb_data_basic['price'])\n",
    "plt.xlabel('Sentiment Score of Listing Description')\n",
    "plt.ylabel('Price')\n",
    "plt.title('Sentiment Score vs. Price')"
   ]
  },
  {
   "cell_type": "markdown",
   "metadata": {},
   "source": [
    "We also graphed the ten most expensive and least expensive neighborhoods. Housing prices are highly dependent on location and we believe that Airbnb prices will reflect the same thing. The neighborhood will likely have a high correlation with price."
   ]
  },
  {
   "cell_type": "code",
   "execution_count": 45,
   "metadata": {},
   "outputs": [
    {
     "data": {
      "text/plain": [
       "<matplotlib.axes._subplots.AxesSubplot at 0x11395ea58>"
      ]
     },
     "execution_count": 45,
     "metadata": {},
     "output_type": "execute_result"
    },
    {
     "data": {
      "image/png": "[encoded data removed]",
      "text/plain": [
       "<Figure size 432x288 with 1 Axes>"
      ]
     },
     "metadata": {},
     "output_type": "display_data"
    }
   ],
   "source": [
    "# neighborhood average price comparison \n",
    "prices_by_neighbourhood = airbnb_data_basic.groupby(['neighbourhood']).mean().price.sort_values(ascending=False)\n",
    "neighbourhood_prices_df = pd.DataFrame(prices_by_neighbourhood)\n",
    "neighbourhood_prices_df = neighbourhood_prices_df.reset_index()\n",
    "\n",
    "sns.barplot(x=\"price\", y=\"neighbourhood\", data=neighbourhood_prices_df)"
   ]
  },
  {
   "cell_type": "markdown",
   "metadata": {},
   "source": [
    "The graph below shows the listing price graphed against the number of reviews. The graph cascades down nicely and shows that higher priced listings have a significantly lower number of reviews. This is most likely due to them being out of affordable range for most."
   ]
  },
  {
   "cell_type": "code",
   "execution_count": 46,
   "metadata": {},
   "outputs": [
    {
     "data": {
      "text/plain": [
       "Text(0.5,1,'Price of Listing vs. Number of Reviews')"
      ]
     },
     "execution_count": 46,
     "metadata": {},
     "output_type": "execute_result"
    },
    {
     "data": {
      "image/png": "[encoded data removed]",
      "text/plain": [
       "<Figure size 432x288 with 1 Axes>"
      ]
     },
     "metadata": {},
     "output_type": "display_data"
    }
   ],
   "source": [
    "plt.scatter(airbnb_data_basic['price'], airbnb_data_basic['number_of_reviews'])\n",
    "plt.xlabel('Price of Listing')\n",
    "plt.ylabel('Number of Reviews')\n",
    "plt.title('Price of Listing vs. Number of Reviews')"
   ]
  },
  {
   "cell_type": "markdown",
   "metadata": {},
   "source": [
    "### Split data into Training and Test Sets"
   ]
  },
  {
   "cell_type": "code",
   "execution_count": 47,
   "metadata": {},
   "outputs": [],
   "source": [
    "# split into train and test\n",
    "train_features, test_features, train_outcome, test_outcome = train_test_split(\n",
    "    airbnb_data_dummies.drop(\"price\", axis=1),\n",
    "    airbnb_data_dummies.price,\n",
    "    test_size=0.20\n",
    ")"
   ]
  },
  {
   "cell_type": "markdown",
   "metadata": {},
   "source": [
    "### TODO: look at adding a variance thresh "
   ]
  },
  {
   "cell_type": "code",
   "execution_count": 48,
   "metadata": {},
   "outputs": [],
   "source": [
    "# KNN pipeline\n",
    "knn_pipeline = make_pipeline(\n",
    "    MinMaxScaler(),\n",
    "    PolynomialFeatures(),\n",
    "    KNeighborsRegressor(n_neighbors=4, weights=\"distance\")\n",
    ")"
   ]
  },
  {
   "cell_type": "code",
   "execution_count": 49,
   "metadata": {},
   "outputs": [],
   "source": [
    "# Grid\n",
    "knn_param_grid = {\n",
    "              'polynomialfeatures__degree':range(1,2)\n",
    "}"
   ]
  },
  {
   "cell_type": "code",
   "execution_count": 50,
   "metadata": {},
   "outputs": [],
   "source": [
    "# RF\n",
    "rf_pipeline = make_pipeline(\n",
    "    SelectKBest(),\n",
    "    MinMaxScaler(),\n",
    "    PolynomialFeatures(1),\n",
    "    RandomForestRegressor()\n",
    ")"
   ]
  },
  {
   "cell_type": "code",
   "execution_count": 51,
   "metadata": {},
   "outputs": [],
   "source": [
    "# RF Grid\n",
    "rf_param_grid = { \n",
    "              'selectkbest__k':['all'],\n",
    "              'randomforestregressor__n_estimators':range(1,100, 5),\n",
    "              'randomforestregressor__max_depth':range(1,5)\n",
    "}"
   ]
  },
  {
   "cell_type": "code",
   "execution_count": 52,
   "metadata": {},
   "outputs": [],
   "source": [
    "# Neural Network Pipeline\n",
    "nn_pipeline = make_pipeline(\n",
    "    MinMaxScaler(),\n",
    "    SelectKBest(),\n",
    "    PolynomialFeatures(1),\n",
    "    MLPRegressor()\n",
    ")"
   ]
  },
  {
   "cell_type": "code",
   "execution_count": 53,
   "metadata": {},
   "outputs": [],
   "source": [
    "nn_param_grid = {\n",
    "              'selectkbest__k':['all'],\n",
    "              'mlpregressor__learning_rate':[\"constant\", \"invscaling\", \"adaptive\"],\n",
    "              'mlpregressor__solver':[\"lbfgs\", \"sgd\", \"adam\"],\n",
    "              'mlpregressor__activation':[\"relu\"]\n",
    "}\n"
   ]
  },
  {
   "cell_type": "code",
   "execution_count": 54,
   "metadata": {},
   "outputs": [
    {
     "data": {
      "text/plain": [
       "-36.867350912005556"
      ]
     },
     "execution_count": 54,
     "metadata": {},
     "output_type": "execute_result"
    }
   ],
   "source": [
    "knn_grid = GridSearchCV(knn_pipeline, knn_param_grid, cv=3, scoring=\"neg_mean_absolute_error\")\n",
    "knn_grid.fit(train_features, train_outcome)\n",
    "knn_grid.score(test_features, test_outcome)"
   ]
  },
  {
   "cell_type": "code",
   "execution_count": 55,
   "metadata": {
    "scrolled": true
   },
   "outputs": [
    {
     "data": {
      "text/plain": [
       "-35.50728042153985"
      ]
     },
     "execution_count": 55,
     "metadata": {},
     "output_type": "execute_result"
    }
   ],
   "source": [
    "rf_grid = GridSearchCV(rf_pipeline, rf_param_grid, cv=3, scoring=\"neg_mean_absolute_error\")\n",
    "rf_grid.fit(train_features, train_outcome)\n",
    "rf_grid.score(test_features, test_outcome)"
   ]
  },
  {
   "cell_type": "code",
   "execution_count": 56,
   "metadata": {},
   "outputs": [
    {
     "data": {
      "text/plain": [
       "-33.6289590458204"
      ]
     },
     "execution_count": 56,
     "metadata": {},
     "output_type": "execute_result"
    }
   ],
   "source": [
    "nn_grid = GridSearchCV(nn_pipeline, nn_param_grid, cv=3, scoring=\"neg_mean_absolute_error\")\n",
    "nn_grid.fit(train_features, train_outcome)\n",
    "nn_grid.score(test_features, test_outcome)"
   ]
  },
  {
   "cell_type": "markdown",
   "metadata": {},
   "source": [
    "## NN plot"
   ]
  },
  {
   "cell_type": "code",
   "execution_count": 61,
   "metadata": {},
   "outputs": [
    {
     "data": {
      "image/png": "[encoded data removed]",
      "text/plain": [
       "<Figure size 432x288 with 1 Axes>"
      ]
     },
     "metadata": {},
     "output_type": "display_data"
    }
   ],
   "source": [
    "plt.scatter(nn_grid.predict(test_features),test_outcome,color='b', alpha = .5, label = 'Neural Net')\n",
    "plt.scatter(rf_grid.predict(test_features),test_outcome,color='g', alpha = .35, label = 'Random Forests')\n",
    "# plt.scatter(knn_grid.predict(test_features),test_outcome,color='r', alpha = .25, label = 'K-Nearest Neighbors')\n",
    "plt.xlabel('Predicted Price')\n",
    "plt.ylabel('Actual Price')\n",
    "plt.legend(loc='upper left')\n",
    "plt.show()"
   ]
  },
  {
   "cell_type": "code",
   "execution_count": 62,
   "metadata": {},
   "outputs": [
    {
     "data": {
      "image/png": "[encoded data removed]",
      "text/plain": [
       "<Figure size 432x288 with 1 Axes>"
      ]
     },
     "metadata": {},
     "output_type": "display_data"
    }
   ],
   "source": [
    "plt.scatter(test_outcome,test_outcome - nn_grid.predict(test_features),color='b', alpha = .5, label = 'Neural Net')\n",
    "plt.scatter(test_outcome,test_outcome - rf_grid.predict(test_features),color='g', alpha = .35, label = 'Random Forests')\n",
    "#plt.scatter(test_outcome,test_outcome - knn_grid.predict(test_features),color='g', alpha = .5, label = 'Random Forests')\n",
    "plt.xlabel('Actual Price')\n",
    "plt.ylabel('Error')\n",
    "plt.legend(loc='upper left')\n",
    "plt.show()"
   ]
  },
  {
   "cell_type": "code",
   "execution_count": 63,
   "metadata": {},
   "outputs": [],
   "source": [
    "review_data = airbnb_data_dummies[airbnb_data_dummies.number_of_reviews > 3]"
   ]
  },
  {
   "cell_type": "code",
   "execution_count": 65,
   "metadata": {},
   "outputs": [
    {
     "data": {
      "text/html": [
       "<table class=\"simpletable\">\n",
       "<caption>OLS Regression Results</caption>\n",
       "<tr>\n",
       "  <th>Dep. Variable:</th>    <td>review_scores_rating</td> <th>  R-squared:         </th> <td>   0.719</td> \n",
       "</tr>\n",
       "<tr>\n",
       "  <th>Model:</th>                     <td>OLS</td>         <th>  Adj. R-squared:    </th> <td>   0.715</td> \n",
       "</tr>\n",
       "<tr>\n",
       "  <th>Method:</th>               <td>Least Squares</td>    <th>  F-statistic:       </th> <td>   156.6</td> \n",
       "</tr>\n",
       "<tr>\n",
       "  <th>Date:</th>               <td>Mon, 03 Dec 2018</td>   <th>  Prob (F-statistic):</th>  <td>  0.00</td>  \n",
       "</tr>\n",
       "<tr>\n",
       "  <th>Time:</th>                   <td>21:18:24</td>       <th>  Log-Likelihood:    </th> <td> -5878.0</td> \n",
       "</tr>\n",
       "<tr>\n",
       "  <th>No. Observations:</th>        <td>  2424</td>        <th>  AIC:               </th> <td>1.184e+04</td>\n",
       "</tr>\n",
       "<tr>\n",
       "  <th>Df Residuals:</th>            <td>  2384</td>        <th>  BIC:               </th> <td>1.207e+04</td>\n",
       "</tr>\n",
       "<tr>\n",
       "  <th>Df Model:</th>                <td>    39</td>        <th>                     </th>     <td> </td>    \n",
       "</tr>\n",
       "<tr>\n",
       "  <th>Covariance Type:</th>        <td>nonrobust</td>      <th>                     </th>     <td> </td>    \n",
       "</tr>\n",
       "</table>\n",
       "<table class=\"simpletable\">\n",
       "<tr>\n",
       "                  <td></td>                     <th>coef</th>     <th>std err</th>      <th>t</th>      <th>P>|t|</th>  <th>[0.025</th>    <th>0.975]</th>  \n",
       "</tr>\n",
       "<tr>\n",
       "  <th>Intercept</th>                         <td>   -0.4186</td> <td>    1.062</td> <td>   -0.394</td> <td> 0.694</td> <td>   -2.502</td> <td>    1.664</td>\n",
       "</tr>\n",
       "<tr>\n",
       "  <th>host_response_rate</th>                <td>    0.0064</td> <td>    0.006</td> <td>    1.123</td> <td> 0.261</td> <td>   -0.005</td> <td>    0.018</td>\n",
       "</tr>\n",
       "<tr>\n",
       "  <th>accommodates</th>                      <td>   -0.0259</td> <td>    0.071</td> <td>   -0.367</td> <td> 0.714</td> <td>   -0.164</td> <td>    0.113</td>\n",
       "</tr>\n",
       "<tr>\n",
       "  <th>guests_included</th>                   <td>   -0.0542</td> <td>    0.054</td> <td>   -1.003</td> <td> 0.316</td> <td>   -0.160</td> <td>    0.052</td>\n",
       "</tr>\n",
       "<tr>\n",
       "  <th>bathrooms</th>                         <td>    0.1847</td> <td>    0.133</td> <td>    1.387</td> <td> 0.166</td> <td>   -0.077</td> <td>    0.446</td>\n",
       "</tr>\n",
       "<tr>\n",
       "  <th>bedrooms</th>                          <td>    0.0574</td> <td>    0.128</td> <td>    0.450</td> <td> 0.653</td> <td>   -0.193</td> <td>    0.308</td>\n",
       "</tr>\n",
       "<tr>\n",
       "  <th>beds</th>                              <td>   -0.0528</td> <td>    0.105</td> <td>   -0.501</td> <td> 0.616</td> <td>   -0.260</td> <td>    0.154</td>\n",
       "</tr>\n",
       "<tr>\n",
       "  <th>number_of_reviews</th>                 <td>   -0.0029</td> <td>    0.001</td> <td>   -2.014</td> <td> 0.044</td> <td>   -0.006</td> <td>-7.51e-05</td>\n",
       "</tr>\n",
       "<tr>\n",
       "  <th>price</th>                             <td>    0.0036</td> <td>    0.001</td> <td>    3.477</td> <td> 0.001</td> <td>    0.002</td> <td>    0.006</td>\n",
       "</tr>\n",
       "<tr>\n",
       "  <th>review_scores_accuracy</th>            <td>    1.6449</td> <td>    0.135</td> <td>   12.158</td> <td> 0.000</td> <td>    1.380</td> <td>    1.910</td>\n",
       "</tr>\n",
       "<tr>\n",
       "  <th>review_scores_cleanliness</th>         <td>    2.0059</td> <td>    0.108</td> <td>   18.527</td> <td> 0.000</td> <td>    1.794</td> <td>    2.218</td>\n",
       "</tr>\n",
       "<tr>\n",
       "  <th>review_scores_checkin</th>             <td>    1.3627</td> <td>    0.169</td> <td>    8.077</td> <td> 0.000</td> <td>    1.032</td> <td>    1.694</td>\n",
       "</tr>\n",
       "<tr>\n",
       "  <th>review_scores_communication</th>       <td>    1.7533</td> <td>    0.177</td> <td>    9.931</td> <td> 0.000</td> <td>    1.407</td> <td>    2.100</td>\n",
       "</tr>\n",
       "<tr>\n",
       "  <th>review_scores_location</th>            <td>    0.9317</td> <td>    0.120</td> <td>    7.785</td> <td> 0.000</td> <td>    0.697</td> <td>    1.166</td>\n",
       "</tr>\n",
       "<tr>\n",
       "  <th>review_scores_value</th>               <td>    2.1174</td> <td>    0.125</td> <td>   16.935</td> <td> 0.000</td> <td>    1.872</td> <td>    2.363</td>\n",
       "</tr>\n",
       "<tr>\n",
       "  <th>score</th>                             <td>   -0.1687</td> <td>    0.325</td> <td>   -0.519</td> <td> 0.604</td> <td>   -0.806</td> <td>    0.469</td>\n",
       "</tr>\n",
       "<tr>\n",
       "  <th>host_is_superhost</th>                 <td>    0.6906</td> <td>    0.136</td> <td>    5.077</td> <td> 0.000</td> <td>    0.424</td> <td>    0.957</td>\n",
       "</tr>\n",
       "<tr>\n",
       "  <th>neighbourhood_Ballard</th>             <td>   -0.4352</td> <td>    0.244</td> <td>   -1.786</td> <td> 0.074</td> <td>   -0.913</td> <td>    0.043</td>\n",
       "</tr>\n",
       "<tr>\n",
       "  <th>neighbourhood_Cascade</th>             <td>    0.1460</td> <td>    0.411</td> <td>    0.355</td> <td> 0.722</td> <td>   -0.660</td> <td>    0.952</td>\n",
       "</tr>\n",
       "<tr>\n",
       "  <th>neighbourhood_Delridge</th>            <td>    0.5759</td> <td>    0.380</td> <td>    1.517</td> <td> 0.129</td> <td>   -0.168</td> <td>    1.320</td>\n",
       "</tr>\n",
       "<tr>\n",
       "  <th>neighbourhood_Downtown</th>            <td>    0.0275</td> <td>    0.211</td> <td>    0.131</td> <td> 0.896</td> <td>   -0.386</td> <td>    0.441</td>\n",
       "</tr>\n",
       "<tr>\n",
       "  <th>neighbourhood_Interbay</th>            <td>    1.2832</td> <td>    1.069</td> <td>    1.200</td> <td> 0.230</td> <td>   -0.813</td> <td>    3.380</td>\n",
       "</tr>\n",
       "<tr>\n",
       "  <th>neighbourhood_Magnolia</th>            <td>   -0.1803</td> <td>    0.465</td> <td>   -0.388</td> <td> 0.698</td> <td>   -1.092</td> <td>    0.731</td>\n",
       "</tr>\n",
       "<tr>\n",
       "  <th>neighbourhood_Northgate</th>           <td>   -0.6475</td> <td>    0.422</td> <td>   -1.536</td> <td> 0.125</td> <td>   -1.474</td> <td>    0.179</td>\n",
       "</tr>\n",
       "<tr>\n",
       "  <th>property_type_Apartment</th>           <td>   -0.3143</td> <td>    0.243</td> <td>   -1.293</td> <td> 0.196</td> <td>   -0.791</td> <td>    0.162</td>\n",
       "</tr>\n",
       "<tr>\n",
       "  <th>property_type_Condominium</th>         <td>   -0.1195</td> <td>    0.437</td> <td>   -0.274</td> <td> 0.784</td> <td>   -0.976</td> <td>    0.737</td>\n",
       "</tr>\n",
       "<tr>\n",
       "  <th>property_type_House</th>               <td>   -0.2185</td> <td>    0.243</td> <td>   -0.899</td> <td> 0.369</td> <td>   -0.695</td> <td>    0.258</td>\n",
       "</tr>\n",
       "<tr>\n",
       "  <th>property_type_Loft</th>                <td>   -0.3362</td> <td>    0.532</td> <td>   -0.632</td> <td> 0.527</td> <td>   -1.379</td> <td>    0.707</td>\n",
       "</tr>\n",
       "<tr>\n",
       "  <th>property_type_Townhouse</th>           <td>    0.0405</td> <td>    0.397</td> <td>    0.102</td> <td> 0.919</td> <td>   -0.737</td> <td>    0.818</td>\n",
       "</tr>\n",
       "<tr>\n",
       "  <th>neighbourhood_Beacon_Hill</th>         <td>    0.4667</td> <td>    0.318</td> <td>    1.470</td> <td> 0.142</td> <td>   -0.156</td> <td>    1.089</td>\n",
       "</tr>\n",
       "<tr>\n",
       "  <th>neighbourhood_Capitol_Hill</th>        <td>   -0.1087</td> <td>    0.197</td> <td>   -0.552</td> <td> 0.581</td> <td>   -0.495</td> <td>    0.277</td>\n",
       "</tr>\n",
       "<tr>\n",
       "  <th>neighbourhood_Central_Area</th>        <td>    0.3952</td> <td>    0.206</td> <td>    1.922</td> <td> 0.055</td> <td>   -0.008</td> <td>    0.798</td>\n",
       "</tr>\n",
       "<tr>\n",
       "  <th>neighbourhood_Lake_City</th>           <td>   -0.8924</td> <td>    0.419</td> <td>   -2.130</td> <td> 0.033</td> <td>   -1.714</td> <td>   -0.071</td>\n",
       "</tr>\n",
       "<tr>\n",
       "  <th>neighbourhood_Other_neighborhoods</th> <td>   -0.1212</td> <td>    0.171</td> <td>   -0.710</td> <td> 0.478</td> <td>   -0.456</td> <td>    0.214</td>\n",
       "</tr>\n",
       "<tr>\n",
       "  <th>neighbourhood_Queen_Anne</th>          <td>   -0.3285</td> <td>    0.235</td> <td>   -1.399</td> <td> 0.162</td> <td>   -0.789</td> <td>    0.132</td>\n",
       "</tr>\n",
       "<tr>\n",
       "  <th>neighbourhood_Rainier_Valley</th>      <td>    0.5245</td> <td>    0.286</td> <td>    1.836</td> <td> 0.066</td> <td>   -0.036</td> <td>    1.085</td>\n",
       "</tr>\n",
       "<tr>\n",
       "  <th>neighbourhood_Seward_Park</th>         <td>   -0.2014</td> <td>    0.470</td> <td>   -0.428</td> <td> 0.668</td> <td>   -1.124</td> <td>    0.721</td>\n",
       "</tr>\n",
       "<tr>\n",
       "  <th>neighbourhood_University_District</th> <td>   -0.8250</td> <td>    0.341</td> <td>   -2.418</td> <td> 0.016</td> <td>   -1.494</td> <td>   -0.156</td>\n",
       "</tr>\n",
       "<tr>\n",
       "  <th>neighbourhood_West_Seattle</th>        <td>   -0.0974</td> <td>    0.267</td> <td>   -0.365</td> <td> 0.715</td> <td>   -0.621</td> <td>    0.426</td>\n",
       "</tr>\n",
       "<tr>\n",
       "  <th>property_type_Bed_Breakfast</th>       <td>    0.5294</td> <td>    0.532</td> <td>    0.995</td> <td> 0.320</td> <td>   -0.514</td> <td>    1.573</td>\n",
       "</tr>\n",
       "<tr>\n",
       "  <th>room_type_Entire_home_apt</th>         <td>   -0.4904</td> <td>    0.385</td> <td>   -1.273</td> <td> 0.203</td> <td>   -1.246</td> <td>    0.265</td>\n",
       "</tr>\n",
       "<tr>\n",
       "  <th>room_type_Private_room</th>            <td>   -0.3405</td> <td>    0.375</td> <td>   -0.907</td> <td> 0.364</td> <td>   -1.077</td> <td>    0.396</td>\n",
       "</tr>\n",
       "<tr>\n",
       "  <th>room_type_Shared_room</th>             <td>    0.4123</td> <td>    0.445</td> <td>    0.926</td> <td> 0.354</td> <td>   -0.461</td> <td>    1.285</td>\n",
       "</tr>\n",
       "</table>\n",
       "<table class=\"simpletable\">\n",
       "<tr>\n",
       "  <th>Omnibus:</th>       <td>482.899</td> <th>  Durbin-Watson:     </th> <td>   2.018</td>\n",
       "</tr>\n",
       "<tr>\n",
       "  <th>Prob(Omnibus):</th> <td> 0.000</td>  <th>  Jarque-Bera (JB):  </th> <td>3921.080</td>\n",
       "</tr>\n",
       "<tr>\n",
       "  <th>Skew:</th>          <td>-0.710</td>  <th>  Prob(JB):          </th> <td>    0.00</td>\n",
       "</tr>\n",
       "<tr>\n",
       "  <th>Kurtosis:</th>      <td> 9.067</td>  <th>  Cond. No.          </th> <td>6.53e+16</td>\n",
       "</tr>\n",
       "</table><br/><br/>Warnings:<br/>[1] Standard Errors assume that the covariance matrix of the errors is correctly specified.<br/>[2] The smallest eigenvalue is 1.73e-26. This might indicate that there are<br/>strong multicollinearity problems or that the design matrix is singular."
      ],
      "text/plain": [
       "<class 'statsmodels.iolib.summary.Summary'>\n",
       "\"\"\"\n",
       "                             OLS Regression Results                             \n",
       "================================================================================\n",
       "Dep. Variable:     review_scores_rating   R-squared:                       0.719\n",
       "Model:                              OLS   Adj. R-squared:                  0.715\n",
       "Method:                   Least Squares   F-statistic:                     156.6\n",
       "Date:                  Mon, 03 Dec 2018   Prob (F-statistic):               0.00\n",
       "Time:                          21:18:24   Log-Likelihood:                -5878.0\n",
       "No. Observations:                  2424   AIC:                         1.184e+04\n",
       "Df Residuals:                      2384   BIC:                         1.207e+04\n",
       "Df Model:                            39                                         \n",
       "Covariance Type:              nonrobust                                         \n",
       "=====================================================================================================\n",
       "                                        coef    std err          t      P>|t|      [0.025      0.975]\n",
       "-----------------------------------------------------------------------------------------------------\n",
       "Intercept                            -0.4186      1.062     -0.394      0.694      -2.502       1.664\n",
       "host_response_rate                    0.0064      0.006      1.123      0.261      -0.005       0.018\n",
       "accommodates                         -0.0259      0.071     -0.367      0.714      -0.164       0.113\n",
       "guests_included                      -0.0542      0.054     -1.003      0.316      -0.160       0.052\n",
       "bathrooms                             0.1847      0.133      1.387      0.166      -0.077       0.446\n",
       "bedrooms                              0.0574      0.128      0.450      0.653      -0.193       0.308\n",
       "beds                                 -0.0528      0.105     -0.501      0.616      -0.260       0.154\n",
       "number_of_reviews                    -0.0029      0.001     -2.014      0.044      -0.006   -7.51e-05\n",
       "price                                 0.0036      0.001      3.477      0.001       0.002       0.006\n",
       "review_scores_accuracy                1.6449      0.135     12.158      0.000       1.380       1.910\n",
       "review_scores_cleanliness             2.0059      0.108     18.527      0.000       1.794       2.218\n",
       "review_scores_checkin                 1.3627      0.169      8.077      0.000       1.032       1.694\n",
       "review_scores_communication           1.7533      0.177      9.931      0.000       1.407       2.100\n",
       "review_scores_location                0.9317      0.120      7.785      0.000       0.697       1.166\n",
       "review_scores_value                   2.1174      0.125     16.935      0.000       1.872       2.363\n",
       "score                                -0.1687      0.325     -0.519      0.604      -0.806       0.469\n",
       "host_is_superhost                     0.6906      0.136      5.077      0.000       0.424       0.957\n",
       "neighbourhood_Ballard                -0.4352      0.244     -1.786      0.074      -0.913       0.043\n",
       "neighbourhood_Cascade                 0.1460      0.411      0.355      0.722      -0.660       0.952\n",
       "neighbourhood_Delridge                0.5759      0.380      1.517      0.129      -0.168       1.320\n",
       "neighbourhood_Downtown                0.0275      0.211      0.131      0.896      -0.386       0.441\n",
       "neighbourhood_Interbay                1.2832      1.069      1.200      0.230      -0.813       3.380\n",
       "neighbourhood_Magnolia               -0.1803      0.465     -0.388      0.698      -1.092       0.731\n",
       "neighbourhood_Northgate              -0.6475      0.422     -1.536      0.125      -1.474       0.179\n",
       "property_type_Apartment              -0.3143      0.243     -1.293      0.196      -0.791       0.162\n",
       "property_type_Condominium            -0.1195      0.437     -0.274      0.784      -0.976       0.737\n",
       "property_type_House                  -0.2185      0.243     -0.899      0.369      -0.695       0.258\n",
       "property_type_Loft                   -0.3362      0.532     -0.632      0.527      -1.379       0.707\n",
       "property_type_Townhouse               0.0405      0.397      0.102      0.919      -0.737       0.818\n",
       "neighbourhood_Beacon_Hill             0.4667      0.318      1.470      0.142      -0.156       1.089\n",
       "neighbourhood_Capitol_Hill           -0.1087      0.197     -0.552      0.581      -0.495       0.277\n",
       "neighbourhood_Central_Area            0.3952      0.206      1.922      0.055      -0.008       0.798\n",
       "neighbourhood_Lake_City              -0.8924      0.419     -2.130      0.033      -1.714      -0.071\n",
       "neighbourhood_Other_neighborhoods    -0.1212      0.171     -0.710      0.478      -0.456       0.214\n",
       "neighbourhood_Queen_Anne             -0.3285      0.235     -1.399      0.162      -0.789       0.132\n",
       "neighbourhood_Rainier_Valley          0.5245      0.286      1.836      0.066      -0.036       1.085\n",
       "neighbourhood_Seward_Park            -0.2014      0.470     -0.428      0.668      -1.124       0.721\n",
       "neighbourhood_University_District    -0.8250      0.341     -2.418      0.016      -1.494      -0.156\n",
       "neighbourhood_West_Seattle           -0.0974      0.267     -0.365      0.715      -0.621       0.426\n",
       "property_type_Bed_Breakfast           0.5294      0.532      0.995      0.320      -0.514       1.573\n",
       "room_type_Entire_home_apt            -0.4904      0.385     -1.273      0.203      -1.246       0.265\n",
       "room_type_Private_room               -0.3405      0.375     -0.907      0.364      -1.077       0.396\n",
       "room_type_Shared_room                 0.4123      0.445      0.926      0.354      -0.461       1.285\n",
       "==============================================================================\n",
       "Omnibus:                      482.899   Durbin-Watson:                   2.018\n",
       "Prob(Omnibus):                  0.000   Jarque-Bera (JB):             3921.080\n",
       "Skew:                          -0.710   Prob(JB):                         0.00\n",
       "Kurtosis:                       9.067   Cond. No.                     6.53e+16\n",
       "==============================================================================\n",
       "\n",
       "Warnings:\n",
       "[1] Standard Errors assume that the covariance matrix of the errors is correctly specified.\n",
       "[2] The smallest eigenvalue is 1.73e-26. This might indicate that there are\n",
       "strong multicollinearity problems or that the design matrix is singular.\n",
       "\"\"\""
      ]
     },
     "execution_count": 65,
     "metadata": {},
     "output_type": "execute_result"
    }
   ],
   "source": [
    "formula = 'review_scores_rating ~ host_response_rate + accommodates + guests_included + bathrooms + bedrooms + beds + number_of_reviews + price + review_scores_accuracy + review_scores_cleanliness + review_scores_checkin + review_scores_communication + review_scores_location + review_scores_value + score + host_is_superhost + neighbourhood_Ballard  + neighbourhood_Cascade  + neighbourhood_Delridge + neighbourhood_Downtown + neighbourhood_Interbay + neighbourhood_Magnolia + neighbourhood_Northgate + property_type_Apartment  + property_type_Condominium + property_type_House + property_type_Loft + property_type_Townhouse + neighbourhood_Beacon_Hill + neighbourhood_Capitol_Hill + neighbourhood_Central_Area + neighbourhood_Lake_City + neighbourhood_Other_neighborhoods + neighbourhood_Queen_Anne + neighbourhood_Rainier_Valley + neighbourhood_Seward_Park + neighbourhood_University_District + neighbourhood_West_Seattle + property_type_Bed_Breakfast + room_type_Entire_home_apt + room_type_Private_room + room_type_Shared_room'\n",
    "\n",
    "mod1 = smf.ols(formula=formula, data=review_data).fit()\n",
    "mod1.summary()"
   ]
  },
  {
   "cell_type": "code",
   "execution_count": 66,
   "metadata": {},
   "outputs": [],
   "source": [
    "review_data = review_data.drop('review_scores_accuracy',1)\n",
    "review_data = review_data.drop('review_scores_cleanliness',1)\n",
    "review_data = review_data.drop('review_scores_checkin',1)\n",
    "review_data = review_data.drop('review_scores_communication',1)\n",
    "review_data = review_data.drop('review_scores_location',1)\n",
    "review_data = review_data.drop('review_scores_value',1)"
   ]
  },
  {
   "cell_type": "code",
   "execution_count": 67,
   "metadata": {},
   "outputs": [
    {
     "data": {
      "text/html": [
       "<table class=\"simpletable\">\n",
       "<caption>OLS Regression Results</caption>\n",
       "<tr>\n",
       "  <th>Dep. Variable:</th>    <td>review_scores_rating</td> <th>  R-squared:         </th> <td>   0.190</td> \n",
       "</tr>\n",
       "<tr>\n",
       "  <th>Model:</th>                     <td>OLS</td>         <th>  Adj. R-squared:    </th> <td>   0.178</td> \n",
       "</tr>\n",
       "<tr>\n",
       "  <th>Method:</th>               <td>Least Squares</td>    <th>  F-statistic:       </th> <td>   16.94</td> \n",
       "</tr>\n",
       "<tr>\n",
       "  <th>Date:</th>               <td>Mon, 03 Dec 2018</td>   <th>  Prob (F-statistic):</th> <td>5.77e-86</td> \n",
       "</tr>\n",
       "<tr>\n",
       "  <th>Time:</th>                   <td>21:19:29</td>       <th>  Log-Likelihood:    </th> <td> -7162.7</td> \n",
       "</tr>\n",
       "<tr>\n",
       "  <th>No. Observations:</th>        <td>  2424</td>        <th>  AIC:               </th> <td>1.439e+04</td>\n",
       "</tr>\n",
       "<tr>\n",
       "  <th>Df Residuals:</th>            <td>  2390</td>        <th>  BIC:               </th> <td>1.459e+04</td>\n",
       "</tr>\n",
       "<tr>\n",
       "  <th>Df Model:</th>                <td>    33</td>        <th>                     </th>     <td> </td>    \n",
       "</tr>\n",
       "<tr>\n",
       "  <th>Covariance Type:</th>        <td>nonrobust</td>      <th>                     </th>     <td> </td>    \n",
       "</tr>\n",
       "</table>\n",
       "<table class=\"simpletable\">\n",
       "<tr>\n",
       "                  <td></td>                     <th>coef</th>     <th>std err</th>      <th>t</th>      <th>P>|t|</th>  <th>[0.025</th>    <th>0.975]</th>  \n",
       "</tr>\n",
       "<tr>\n",
       "  <th>Intercept</th>                         <td>   55.9933</td> <td>    0.701</td> <td>   79.865</td> <td> 0.000</td> <td>   54.619</td> <td>   57.368</td>\n",
       "</tr>\n",
       "<tr>\n",
       "  <th>host_response_rate</th>                <td>    0.0639</td> <td>    0.009</td> <td>    6.730</td> <td> 0.000</td> <td>    0.045</td> <td>    0.083</td>\n",
       "</tr>\n",
       "<tr>\n",
       "  <th>accommodates</th>                      <td>   -0.4196</td> <td>    0.119</td> <td>   -3.520</td> <td> 0.000</td> <td>   -0.653</td> <td>   -0.186</td>\n",
       "</tr>\n",
       "<tr>\n",
       "  <th>guests_included</th>                   <td>   -0.0439</td> <td>    0.092</td> <td>   -0.479</td> <td> 0.632</td> <td>   -0.224</td> <td>    0.136</td>\n",
       "</tr>\n",
       "<tr>\n",
       "  <th>bathrooms</th>                         <td>    0.4336</td> <td>    0.225</td> <td>    1.924</td> <td> 0.054</td> <td>   -0.008</td> <td>    0.876</td>\n",
       "</tr>\n",
       "<tr>\n",
       "  <th>bedrooms</th>                          <td>    0.1790</td> <td>    0.216</td> <td>    0.829</td> <td> 0.407</td> <td>   -0.245</td> <td>    0.602</td>\n",
       "</tr>\n",
       "<tr>\n",
       "  <th>beds</th>                              <td>    0.0241</td> <td>    0.179</td> <td>    0.135</td> <td> 0.893</td> <td>   -0.326</td> <td>    0.374</td>\n",
       "</tr>\n",
       "<tr>\n",
       "  <th>number_of_reviews</th>                 <td>   -0.0019</td> <td>    0.002</td> <td>   -0.795</td> <td> 0.427</td> <td>   -0.007</td> <td>    0.003</td>\n",
       "</tr>\n",
       "<tr>\n",
       "  <th>price</th>                             <td>    0.0074</td> <td>    0.002</td> <td>    4.206</td> <td> 0.000</td> <td>    0.004</td> <td>    0.011</td>\n",
       "</tr>\n",
       "<tr>\n",
       "  <th>score</th>                             <td>    0.4080</td> <td>    0.551</td> <td>    0.741</td> <td> 0.459</td> <td>   -0.672</td> <td>    1.488</td>\n",
       "</tr>\n",
       "<tr>\n",
       "  <th>host_is_superhost</th>                 <td>    3.3366</td> <td>    0.220</td> <td>   15.139</td> <td> 0.000</td> <td>    2.904</td> <td>    3.769</td>\n",
       "</tr>\n",
       "<tr>\n",
       "  <th>neighbourhood_Ballard</th>             <td>    3.4956</td> <td>    0.390</td> <td>    8.962</td> <td> 0.000</td> <td>    2.731</td> <td>    4.261</td>\n",
       "</tr>\n",
       "<tr>\n",
       "  <th>neighbourhood_Cascade</th>             <td>    2.8058</td> <td>    0.689</td> <td>    4.075</td> <td> 0.000</td> <td>    1.456</td> <td>    4.156</td>\n",
       "</tr>\n",
       "<tr>\n",
       "  <th>neighbourhood_Delridge</th>            <td>    4.7089</td> <td>    0.631</td> <td>    7.464</td> <td> 0.000</td> <td>    3.472</td> <td>    5.946</td>\n",
       "</tr>\n",
       "<tr>\n",
       "  <th>neighbourhood_Downtown</th>            <td>    3.1369</td> <td>    0.332</td> <td>    9.462</td> <td> 0.000</td> <td>    2.487</td> <td>    3.787</td>\n",
       "</tr>\n",
       "<tr>\n",
       "  <th>neighbourhood_Interbay</th>            <td>    4.6112</td> <td>    1.810</td> <td>    2.548</td> <td> 0.011</td> <td>    1.062</td> <td>    8.161</td>\n",
       "</tr>\n",
       "<tr>\n",
       "  <th>neighbourhood_Magnolia</th>            <td>    2.7767</td> <td>    0.779</td> <td>    3.563</td> <td> 0.000</td> <td>    1.248</td> <td>    4.305</td>\n",
       "</tr>\n",
       "<tr>\n",
       "  <th>neighbourhood_Northgate</th>           <td>    3.9788</td> <td>    0.704</td> <td>    5.652</td> <td> 0.000</td> <td>    2.598</td> <td>    5.359</td>\n",
       "</tr>\n",
       "<tr>\n",
       "  <th>property_type_Apartment</th>           <td>    8.6608</td> <td>    0.311</td> <td>   27.832</td> <td> 0.000</td> <td>    8.051</td> <td>    9.271</td>\n",
       "</tr>\n",
       "<tr>\n",
       "  <th>property_type_Condominium</th>         <td>   10.0250</td> <td>    0.682</td> <td>   14.705</td> <td> 0.000</td> <td>    8.688</td> <td>   11.362</td>\n",
       "</tr>\n",
       "<tr>\n",
       "  <th>property_type_House</th>               <td>    8.8591</td> <td>    0.313</td> <td>   28.312</td> <td> 0.000</td> <td>    8.246</td> <td>    9.473</td>\n",
       "</tr>\n",
       "<tr>\n",
       "  <th>property_type_Loft</th>                <td>    8.5975</td> <td>    0.864</td> <td>    9.951</td> <td> 0.000</td> <td>    6.903</td> <td>   10.292</td>\n",
       "</tr>\n",
       "<tr>\n",
       "  <th>property_type_Townhouse</th>           <td>   10.5966</td> <td>    0.602</td> <td>   17.595</td> <td> 0.000</td> <td>    9.416</td> <td>   11.778</td>\n",
       "</tr>\n",
       "<tr>\n",
       "  <th>neighbourhood_Beacon_Hill</th>         <td>    2.8665</td> <td>    0.528</td> <td>    5.429</td> <td> 0.000</td> <td>    1.831</td> <td>    3.902</td>\n",
       "</tr>\n",
       "<tr>\n",
       "  <th>neighbourhood_Capitol_Hill</th>        <td>    2.5752</td> <td>    0.303</td> <td>    8.509</td> <td> 0.000</td> <td>    1.982</td> <td>    3.169</td>\n",
       "</tr>\n",
       "<tr>\n",
       "  <th>neighbourhood_Central_Area</th>        <td>    4.0713</td> <td>    0.333</td> <td>   12.211</td> <td> 0.000</td> <td>    3.417</td> <td>    4.725</td>\n",
       "</tr>\n",
       "<tr>\n",
       "  <th>neighbourhood_Lake_City</th>           <td>    2.9169</td> <td>    0.701</td> <td>    4.163</td> <td> 0.000</td> <td>    1.543</td> <td>    4.291</td>\n",
       "</tr>\n",
       "<tr>\n",
       "  <th>neighbourhood_Other_neighborhoods</th> <td>    3.5125</td> <td>    0.263</td> <td>   13.363</td> <td> 0.000</td> <td>    2.997</td> <td>    4.028</td>\n",
       "</tr>\n",
       "<tr>\n",
       "  <th>neighbourhood_Queen_Anne</th>          <td>    3.7165</td> <td>    0.376</td> <td>    9.887</td> <td> 0.000</td> <td>    2.979</td> <td>    4.454</td>\n",
       "</tr>\n",
       "<tr>\n",
       "  <th>neighbourhood_Rainier_Valley</th>      <td>    3.6319</td> <td>    0.471</td> <td>    7.710</td> <td> 0.000</td> <td>    2.708</td> <td>    4.556</td>\n",
       "</tr>\n",
       "<tr>\n",
       "  <th>neighbourhood_Seward_Park</th>         <td>    4.3938</td> <td>    0.788</td> <td>    5.573</td> <td> 0.000</td> <td>    2.848</td> <td>    5.940</td>\n",
       "</tr>\n",
       "<tr>\n",
       "  <th>neighbourhood_University_District</th> <td>   -1.7313</td> <td>    0.577</td> <td>   -3.002</td> <td> 0.003</td> <td>   -2.862</td> <td>   -0.600</td>\n",
       "</tr>\n",
       "<tr>\n",
       "  <th>neighbourhood_West_Seattle</th>        <td>    4.5259</td> <td>    0.430</td> <td>   10.528</td> <td> 0.000</td> <td>    3.683</td> <td>    5.369</td>\n",
       "</tr>\n",
       "<tr>\n",
       "  <th>property_type_Bed_Breakfast</th>       <td>    9.2542</td> <td>    0.858</td> <td>   10.786</td> <td> 0.000</td> <td>    7.572</td> <td>   10.937</td>\n",
       "</tr>\n",
       "<tr>\n",
       "  <th>room_type_Entire_home_apt</th>         <td>   18.9665</td> <td>    0.339</td> <td>   55.910</td> <td> 0.000</td> <td>   18.301</td> <td>   19.632</td>\n",
       "</tr>\n",
       "<tr>\n",
       "  <th>room_type_Private_room</th>            <td>   18.8633</td> <td>    0.314</td> <td>   60.128</td> <td> 0.000</td> <td>   18.248</td> <td>   19.478</td>\n",
       "</tr>\n",
       "<tr>\n",
       "  <th>room_type_Shared_room</th>             <td>   18.1636</td> <td>    0.515</td> <td>   35.244</td> <td> 0.000</td> <td>   17.153</td> <td>   19.174</td>\n",
       "</tr>\n",
       "</table>\n",
       "<table class=\"simpletable\">\n",
       "<tr>\n",
       "  <th>Omnibus:</th>       <td>1067.242</td> <th>  Durbin-Watson:     </th> <td>   2.003</td>\n",
       "</tr>\n",
       "<tr>\n",
       "  <th>Prob(Omnibus):</th>  <td> 0.000</td>  <th>  Jarque-Bera (JB):  </th> <td>8513.381</td>\n",
       "</tr>\n",
       "<tr>\n",
       "  <th>Skew:</th>           <td>-1.894</td>  <th>  Prob(JB):          </th> <td>    0.00</td>\n",
       "</tr>\n",
       "<tr>\n",
       "  <th>Kurtosis:</th>       <td>11.363</td>  <th>  Cond. No.          </th> <td>5.38e+16</td>\n",
       "</tr>\n",
       "</table><br/><br/>Warnings:<br/>[1] Standard Errors assume that the covariance matrix of the errors is correctly specified.<br/>[2] The smallest eigenvalue is 2.52e-26. This might indicate that there are<br/>strong multicollinearity problems or that the design matrix is singular."
      ],
      "text/plain": [
       "<class 'statsmodels.iolib.summary.Summary'>\n",
       "\"\"\"\n",
       "                             OLS Regression Results                             \n",
       "================================================================================\n",
       "Dep. Variable:     review_scores_rating   R-squared:                       0.190\n",
       "Model:                              OLS   Adj. R-squared:                  0.178\n",
       "Method:                   Least Squares   F-statistic:                     16.94\n",
       "Date:                  Mon, 03 Dec 2018   Prob (F-statistic):           5.77e-86\n",
       "Time:                          21:19:29   Log-Likelihood:                -7162.7\n",
       "No. Observations:                  2424   AIC:                         1.439e+04\n",
       "Df Residuals:                      2390   BIC:                         1.459e+04\n",
       "Df Model:                            33                                         \n",
       "Covariance Type:              nonrobust                                         \n",
       "=====================================================================================================\n",
       "                                        coef    std err          t      P>|t|      [0.025      0.975]\n",
       "-----------------------------------------------------------------------------------------------------\n",
       "Intercept                            55.9933      0.701     79.865      0.000      54.619      57.368\n",
       "host_response_rate                    0.0639      0.009      6.730      0.000       0.045       0.083\n",
       "accommodates                         -0.4196      0.119     -3.520      0.000      -0.653      -0.186\n",
       "guests_included                      -0.0439      0.092     -0.479      0.632      -0.224       0.136\n",
       "bathrooms                             0.4336      0.225      1.924      0.054      -0.008       0.876\n",
       "bedrooms                              0.1790      0.216      0.829      0.407      -0.245       0.602\n",
       "beds                                  0.0241      0.179      0.135      0.893      -0.326       0.374\n",
       "number_of_reviews                    -0.0019      0.002     -0.795      0.427      -0.007       0.003\n",
       "price                                 0.0074      0.002      4.206      0.000       0.004       0.011\n",
       "score                                 0.4080      0.551      0.741      0.459      -0.672       1.488\n",
       "host_is_superhost                     3.3366      0.220     15.139      0.000       2.904       3.769\n",
       "neighbourhood_Ballard                 3.4956      0.390      8.962      0.000       2.731       4.261\n",
       "neighbourhood_Cascade                 2.8058      0.689      4.075      0.000       1.456       4.156\n",
       "neighbourhood_Delridge                4.7089      0.631      7.464      0.000       3.472       5.946\n",
       "neighbourhood_Downtown                3.1369      0.332      9.462      0.000       2.487       3.787\n",
       "neighbourhood_Interbay                4.6112      1.810      2.548      0.011       1.062       8.161\n",
       "neighbourhood_Magnolia                2.7767      0.779      3.563      0.000       1.248       4.305\n",
       "neighbourhood_Northgate               3.9788      0.704      5.652      0.000       2.598       5.359\n",
       "property_type_Apartment               8.6608      0.311     27.832      0.000       8.051       9.271\n",
       "property_type_Condominium            10.0250      0.682     14.705      0.000       8.688      11.362\n",
       "property_type_House                   8.8591      0.313     28.312      0.000       8.246       9.473\n",
       "property_type_Loft                    8.5975      0.864      9.951      0.000       6.903      10.292\n",
       "property_type_Townhouse              10.5966      0.602     17.595      0.000       9.416      11.778\n",
       "neighbourhood_Beacon_Hill             2.8665      0.528      5.429      0.000       1.831       3.902\n",
       "neighbourhood_Capitol_Hill            2.5752      0.303      8.509      0.000       1.982       3.169\n",
       "neighbourhood_Central_Area            4.0713      0.333     12.211      0.000       3.417       4.725\n",
       "neighbourhood_Lake_City               2.9169      0.701      4.163      0.000       1.543       4.291\n",
       "neighbourhood_Other_neighborhoods     3.5125      0.263     13.363      0.000       2.997       4.028\n",
       "neighbourhood_Queen_Anne              3.7165      0.376      9.887      0.000       2.979       4.454\n",
       "neighbourhood_Rainier_Valley          3.6319      0.471      7.710      0.000       2.708       4.556\n",
       "neighbourhood_Seward_Park             4.3938      0.788      5.573      0.000       2.848       5.940\n",
       "neighbourhood_University_District    -1.7313      0.577     -3.002      0.003      -2.862      -0.600\n",
       "neighbourhood_West_Seattle            4.5259      0.430     10.528      0.000       3.683       5.369\n",
       "property_type_Bed_Breakfast           9.2542      0.858     10.786      0.000       7.572      10.937\n",
       "room_type_Entire_home_apt            18.9665      0.339     55.910      0.000      18.301      19.632\n",
       "room_type_Private_room               18.8633      0.314     60.128      0.000      18.248      19.478\n",
       "room_type_Shared_room                18.1636      0.515     35.244      0.000      17.153      19.174\n",
       "==============================================================================\n",
       "Omnibus:                     1067.242   Durbin-Watson:                   2.003\n",
       "Prob(Omnibus):                  0.000   Jarque-Bera (JB):             8513.381\n",
       "Skew:                          -1.894   Prob(JB):                         0.00\n",
       "Kurtosis:                      11.363   Cond. No.                     5.38e+16\n",
       "==============================================================================\n",
       "\n",
       "Warnings:\n",
       "[1] Standard Errors assume that the covariance matrix of the errors is correctly specified.\n",
       "[2] The smallest eigenvalue is 2.52e-26. This might indicate that there are\n",
       "strong multicollinearity problems or that the design matrix is singular.\n",
       "\"\"\""
      ]
     },
     "execution_count": 67,
     "metadata": {},
     "output_type": "execute_result"
    }
   ],
   "source": [
    "formula = 'review_scores_rating ~ host_response_rate + accommodates + guests_included + bathrooms + bedrooms + beds + number_of_reviews + price + score + host_is_superhost + neighbourhood_Ballard  + neighbourhood_Cascade  + neighbourhood_Delridge + neighbourhood_Downtown + neighbourhood_Interbay + neighbourhood_Magnolia + neighbourhood_Northgate + property_type_Apartment  + property_type_Condominium + property_type_House + property_type_Loft + property_type_Townhouse + neighbourhood_Beacon_Hill + neighbourhood_Capitol_Hill + neighbourhood_Central_Area + neighbourhood_Lake_City + neighbourhood_Other_neighborhoods + neighbourhood_Queen_Anne + neighbourhood_Rainier_Valley + neighbourhood_Seward_Park + neighbourhood_University_District + neighbourhood_West_Seattle + property_type_Bed_Breakfast + room_type_Entire_home_apt + room_type_Private_room + room_type_Shared_room'\n",
    "mod1 = smf.ols(formula=formula, data=review_data).fit()\n",
    "mod1.summary()"
   ]
  },
  {
   "cell_type": "code",
   "execution_count": null,
   "metadata": {},
   "outputs": [],
   "source": []
  }
 ],
 "metadata": {
  "kernelspec": {
   "display_name": "Python 3",
   "language": "python",
   "name": "python3"
  },
  "language_info": {
   "codemirror_mode": {
    "name": "ipython",
    "version": 3
   },
   "file_extension": ".py",
   "mimetype": "text/x-python",
   "name": "python",
   "nbconvert_exporter": "python",
   "pygments_lexer": "ipython3",
   "version": "3.6.5"
  }
 },
 "nbformat": 4,
 "nbformat_minor": 2
}
