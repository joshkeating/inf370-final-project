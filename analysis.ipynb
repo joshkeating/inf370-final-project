{
 "cells": [
  {
   "cell_type": "markdown",
   "metadata": {},
   "source": [
    "# Predicting Airbnb Listing Prices in Seattle\n",
    "\n",
    "By: Josh Keating, Ethan Katnic, Christian Hahn, Robin Yang"
   ]
  },
  {
   "cell_type": "markdown",
   "metadata": {},
   "source": [
    "## Framing the Problem\n",
    "\n",
    "The purpose of this project is to identify the aspects of Airbnb host listings that have a correlation to the frequency of achieving bookings. This information will allow Airbnb hosts to find and improve certain variables of their listing that can increase their number of bookings. The dataset used was the Seattle Airbnb Open Dataset found on Kaggle (https://www.kaggle.com/airbnb/seattle#calendar.csv). The two CSV files we are using from this set are calendar.csv and listings.csv. The calendar file displays the listing_id, the dates, whether it is available on that date, and the price of booking for that day. The listings file includes a wide variety of metadata scraped from the listing url.\n",
    "\n",
    "On top of the given columns in the dataset, we used the Microsoft Azure Text Sentiment Analysis API to calculate the sentiment value (on a scale of 1 - 100) of the listing summary. Positive and negative sentiment can be identified and perhaps has a correlation to number of bookings. This was done using post requests on Postman and is known as scores.csv. "
   ]
  },
  {
   "cell_type": "code",
   "execution_count": 2,
   "metadata": {},
   "outputs": [],
   "source": [
    "#import\n",
    "import matplotlib.pyplot as plt\n",
    "import numpy as np\n",
    "import pandas as pd\n",
    "import seaborn as sns\n",
    "import warnings\n",
    "warnings.filterwarnings('ignore')\n",
    "from datetime import datetime\n",
    "from sklearn.preprocessing import MinMaxScaler\n",
    "from sklearn.preprocessing import PolynomialFeatures\n",
    "from sklearn.feature_selection import SelectPercentile\n",
    "from sklearn.feature_selection import VarianceThreshold\n",
    "from sklearn.model_selection import train_test_split\n",
    "from sklearn.neighbors import KNeighborsRegressor\n",
    "from sklearn.model_selection import GridSearchCV\n",
    "from sklearn.pipeline import make_pipeline\n",
    "from sklearn.preprocessing import Imputer\n",
    "from sklearn.ensemble import RandomForestRegressor\n",
    "from sklearn.neural_network import MLPRegressor\n",
    "from sklearn import linear_model"
   ]
  },
  {
   "cell_type": "code",
   "execution_count": 3,
   "metadata": {},
   "outputs": [],
   "source": [
    "# read in clean data\n",
    "airbnb_data_dummies = pd.read_csv('data/cleaned-listings-dummies.csv')\n",
    "airbnb_data_basic = pd.read_csv('data/cleaned-listings-base.csv')"
   ]
  },
  {
   "cell_type": "code",
   "execution_count": 5,
   "metadata": {},
   "outputs": [
    {
     "data": {
      "text/plain": [
       "Text(0.5, 1.0, 'Price of Listing vs. Number of Reviews')"
      ]
     },
     "execution_count": 5,
     "metadata": {},
     "output_type": "execute_result"
    },
    {
     "data": {
      "image/png": "[encoded data removed]",
      "text/plain": [
       "<Figure size 432x288 with 1 Axes>"
      ]
     },
     "metadata": {
      "needs_background": "light"
     },
     "output_type": "display_data"
    }
   ],
   "source": [
    "prices_by_neighbourhood = airbnb_data_basic.groupby(['neighbourhood']).mean().price.sort_values(ascending=False)\n",
    "\n",
    "ten_most_expensive = prices_by_neighbourhood.head(10).plot.bar()\n",
    "ten_most_expensive.set_xlabel('Neighborhood')\n",
    "ten_most_expensive.set_ylabel('Price')\n",
    "ten_most_expensive.set_title('Ten Most Expensive Neighborhoods')\n",
    "\n",
    "ten_least_expensive = prices_by_neighbourhood.tail(10).plot.bar()\n",
    "ten_most_expensive.set_xlabel('Neighborhood')\n",
    "ten_most_expensive.set_ylabel('Price')\n",
    "ten_most_expensive.set_title('Ten Least Expensive Neighborhoods')\n",
    "\n",
    "plt.scatter(airbnb_data_basic['price'], airbnb_data_basic['number_of_reviews'])\n",
    "plt.xlabel('Price of Listing')\n",
    "plt.ylabel('Number of Reviews')\n",
    "plt.title('Price of Listing vs. Number of Reviews')"
   ]
  },
  {
   "cell_type": "code",
   "execution_count": 27,
   "metadata": {},
   "outputs": [],
   "source": [
    "# split into train and test\n",
    "train_features, test_features, train_outcome, est_outcome = train_test_split(\n",
    "    airbnb_data_dummies.drop(\"price\", axis=1),\n",
    "    airbnb_data_dummies.price,\n",
    "    test_size=0.20\n",
    ")\n"
   ]
  },
  {
   "cell_type": "code",
   "execution_count": 28,
   "metadata": {},
   "outputs": [],
   "source": [
    "# KNN pipeline\n",
    "knn_pipeline = make_pipeline(\n",
    "    MinMaxScaler(),\n",
    "    PolynomialFeatures(),\n",
    "    KNeighborsRegressor()\n",
    ")"
   ]
  },
  {
   "cell_type": "code",
   "execution_count": null,
   "metadata": {},
   "outputs": [],
   "source": [
    "# Grid\n",
    "knn_param_grid = {\n",
    "              'polynomialfeatures__degree':range(1, 3), \n",
    "              'selectkbest__k':['all'],\n",
    "              'kneighborsregressor__n_neighbors':range(1, 5),\n",
    "              'kneighborsregressor__weights':[\"uniform\", \"distance\"]\n",
    "}"
   ]
  }
 ],
 "metadata": {
  "kernelspec": {
   "display_name": "Python 3",
   "language": "python",
   "name": "python3"
  },
  "language_info": {
   "codemirror_mode": {
    "name": "ipython",
    "version": 3
   },
   "file_extension": ".py",
   "mimetype": "text/x-python",
   "name": "python",
   "nbconvert_exporter": "python",
   "pygments_lexer": "ipython3",
   "version": "3.6.6"
  }
 },
 "nbformat": 4,
 "nbformat_minor": 2
}
