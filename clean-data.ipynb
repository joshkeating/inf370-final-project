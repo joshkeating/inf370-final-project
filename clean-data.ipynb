{
 "cells": [
  {
   "cell_type": "markdown",
   "metadata": {},
   "source": [
    "## Data clean / exploration"
   ]
  },
  {
   "cell_type": "code",
   "execution_count": 1,
   "metadata": {},
   "outputs": [],
   "source": [
    "import csv\n",
    "import pandas as pd\n",
    "import numpy as np\n",
    "\n",
    "import seaborn as sns"
   ]
  },
  {
   "cell_type": "code",
   "execution_count": 2,
   "metadata": {},
   "outputs": [],
   "source": [
    "# import data\n",
    "calendar_all = pd.read_csv('./data/calendar.csv')\n",
    "listings_all = pd.read_csv('./data/listings.csv')\n",
    "sentiment_scores = pd.read_csv('./data/scores.csv')\n",
    "# reviews = pd.read_csv('./data/reviews.csv')\n"
   ]
  },
  {
   "cell_type": "code",
   "execution_count": 3,
   "metadata": {},
   "outputs": [],
   "source": [
    "# do a bit of cleaning\n",
    "\n",
    "# remove cols that only contain (1) unique elem\n",
    "listings = listings_all\n",
    "for col in listings_all.columns:\n",
    "    if len(listings_all[col].unique()) == 1:\n",
    "        listings = listings.drop(col,axis=1)"
   ]
  },
  {
   "cell_type": "code",
   "execution_count": 4,
   "metadata": {},
   "outputs": [
    {
     "data": {
      "text/plain": [
       "['id',\n",
       " 'listing_url',\n",
       " 'name',\n",
       " 'summary',\n",
       " 'space',\n",
       " 'description',\n",
       " 'neighborhood_overview',\n",
       " 'notes',\n",
       " 'transit',\n",
       " 'thumbnail_url',\n",
       " 'medium_url',\n",
       " 'picture_url',\n",
       " 'xl_picture_url',\n",
       " 'host_id',\n",
       " 'host_url',\n",
       " 'host_name',\n",
       " 'host_since',\n",
       " 'host_location',\n",
       " 'host_about',\n",
       " 'host_response_time',\n",
       " 'host_response_rate',\n",
       " 'host_acceptance_rate',\n",
       " 'host_is_superhost',\n",
       " 'host_thumbnail_url',\n",
       " 'host_picture_url',\n",
       " 'host_neighbourhood',\n",
       " 'host_listings_count',\n",
       " 'host_total_listings_count',\n",
       " 'host_verifications',\n",
       " 'host_has_profile_pic',\n",
       " 'host_identity_verified',\n",
       " 'street',\n",
       " 'neighbourhood',\n",
       " 'neighbourhood_cleansed',\n",
       " 'neighbourhood_group_cleansed',\n",
       " 'city',\n",
       " 'state',\n",
       " 'zipcode',\n",
       " 'smart_location',\n",
       " 'latitude',\n",
       " 'longitude',\n",
       " 'is_location_exact',\n",
       " 'property_type',\n",
       " 'room_type',\n",
       " 'accommodates',\n",
       " 'bathrooms',\n",
       " 'bedrooms',\n",
       " 'beds',\n",
       " 'bed_type',\n",
       " 'amenities',\n",
       " 'square_feet',\n",
       " 'price',\n",
       " 'weekly_price',\n",
       " 'monthly_price',\n",
       " 'security_deposit',\n",
       " 'cleaning_fee',\n",
       " 'guests_included',\n",
       " 'extra_people',\n",
       " 'minimum_nights',\n",
       " 'maximum_nights',\n",
       " 'calendar_updated',\n",
       " 'availability_30',\n",
       " 'availability_60',\n",
       " 'availability_90',\n",
       " 'availability_365',\n",
       " 'number_of_reviews',\n",
       " 'first_review',\n",
       " 'last_review',\n",
       " 'review_scores_rating',\n",
       " 'review_scores_accuracy',\n",
       " 'review_scores_cleanliness',\n",
       " 'review_scores_checkin',\n",
       " 'review_scores_communication',\n",
       " 'review_scores_location',\n",
       " 'review_scores_value',\n",
       " 'instant_bookable',\n",
       " 'cancellation_policy',\n",
       " 'require_guest_profile_picture',\n",
       " 'require_guest_phone_verification',\n",
       " 'calculated_host_listings_count',\n",
       " 'reviews_per_month']"
      ]
     },
     "execution_count": 4,
     "metadata": {},
     "output_type": "execute_result"
    }
   ],
   "source": [
    "listings.head()\n",
    "\n",
    "list(listings.columns.values)"
   ]
  },
  {
   "cell_type": "code",
   "execution_count": 5,
   "metadata": {},
   "outputs": [],
   "source": [
    "# Trimmed Frame\n",
    "trimmed_listings = listings[['id','host_id', 'host_response_rate',\n",
    "                             'host_is_superhost', 'neighbourhood_group_cleansed', 'property_type', 'room_type', 'accommodates',\n",
    "                             'guests_included', 'bathrooms', 'bedrooms', 'beds', 'price',\n",
    "                               'number_of_reviews', 'review_scores_rating', 'review_scores_accuracy',\n",
    "                               'review_scores_cleanliness', 'review_scores_checkin', 'review_scores_communication',\n",
    "                               'review_scores_location', 'review_scores_value']]"
   ]
  },
  {
   "cell_type": "code",
   "execution_count": 6,
   "metadata": {},
   "outputs": [],
   "source": [
    "# populate review NA's with average\n",
    "pd.options.mode.chained_assignment = None \n",
    "trimmed_listings['review_scores_rating'] = trimmed_listings.review_scores_rating.fillna(trimmed_listings.review_scores_rating.median())\n",
    "trimmed_listings['review_scores_accuracy'] = trimmed_listings.review_scores_accuracy.fillna(trimmed_listings.review_scores_accuracy.median())\n",
    "trimmed_listings['review_scores_cleanliness'] = trimmed_listings.review_scores_cleanliness.fillna(trimmed_listings.review_scores_cleanliness.median())\n",
    "trimmed_listings['review_scores_checkin'] = trimmed_listings.review_scores_checkin.fillna(trimmed_listings.review_scores_checkin.median())\n",
    "trimmed_listings['review_scores_communication'] = trimmed_listings.review_scores_communication.fillna(trimmed_listings.review_scores_communication.median())\n",
    "trimmed_listings['review_scores_location'] = trimmed_listings.review_scores_location.fillna(trimmed_listings.review_scores_location.median())\n",
    "trimmed_listings['review_scores_value'] = trimmed_listings.review_scores_value.fillna(trimmed_listings.review_scores_value.median())\n"
   ]
  },
  {
   "cell_type": "code",
   "execution_count": 7,
   "metadata": {},
   "outputs": [],
   "source": [
    "# Add sentiment scores column\n",
    "# Used Microsoft Azure Sentiment Text Analysis API through Postman requests to identify the sentiment score \n",
    "#  of listing descriptions from 1 - 100\n",
    "trimmed_listings = trimmed_listings.join(sentiment_scores['score'], how=\"inner\")\n",
    "\n",
    "# rename to something better\n",
    "trimmed_listings.rename(index=str, columns={\"neighbourhood_group_cleansed\": \"neighbourhood\"}, inplace=True)\n"
   ]
  },
  {
   "cell_type": "code",
   "execution_count": 8,
   "metadata": {},
   "outputs": [],
   "source": [
    "trimmed_listings['price'] = trimmed_listings['price'].replace('[\\$\\,\\.]', '', regex=True).astype(int) / 100"
   ]
  },
  {
   "cell_type": "code",
   "execution_count": 9,
   "metadata": {},
   "outputs": [],
   "source": [
    "# change percentage strings to ints\n",
    "trimmed_listings['host_response_rate'] = trimmed_listings['host_response_rate'].str.replace('%', '')\n",
    "trimmed_listings['host_response_rate'] = trimmed_listings['host_response_rate'].fillna('-1')\n",
    "trimmed_listings['host_response_rate'] = trimmed_listings['host_response_rate'].astype(int)\n",
    "trimmed_listings['host_response_rate'] = trimmed_listings['host_response_rate'].replace(-1, np.nan)\n",
    "trimmed_listings['host_response_rate'] = trimmed_listings.host_response_rate.fillna(trimmed_listings.host_response_rate.mean())"
   ]
  },
  {
   "cell_type": "code",
   "execution_count": 10,
   "metadata": {},
   "outputs": [],
   "source": [
    "# drop few records with no room information\n",
    "trimmed_listings= trimmed_listings[pd.notnull(trimmed_listings['host_is_superhost'])]\n",
    "trimmed_listings= trimmed_listings[pd.notnull(trimmed_listings['beds'])]\n",
    "trimmed_listings= trimmed_listings[pd.notnull(trimmed_listings['bathrooms'])]\n",
    "trimmed_listings= trimmed_listings[pd.notnull(trimmed_listings['bedrooms'])]"
   ]
  },
  {
   "cell_type": "code",
   "execution_count": 11,
   "metadata": {},
   "outputs": [],
   "source": [
    "# remove infrequent property types\n",
    "trimmed_listings = trimmed_listings[trimmed_listings.property_type.isin(['Apartment', 'House' , 'Condominium',\n",
    "       'Townhouse', 'Loft', 'Bed & Breakfast'])]\n",
    "\n",
    "\n",
    "cleaned_base = trimmed_listings"
   ]
  },
  {
   "cell_type": "code",
   "execution_count": 12,
   "metadata": {},
   "outputs": [],
   "source": [
    "# convert categories to dummies\n",
    "trimmed_listings = pd.get_dummies(trimmed_listings)"
   ]
  },
  {
   "cell_type": "code",
   "execution_count": 13,
   "metadata": {},
   "outputs": [],
   "source": [
    "trimmed_listings.to_csv(\"./data/cleaned-listings-dummies.csv\", index = False)\n",
    "cleaned_base.to_csv(\"./data/cleaned-listings-base.csv\", index = False)\n"
   ]
  }
 ],
 "metadata": {
  "kernelspec": {
   "display_name": "Python 3",
   "language": "python",
   "name": "python3"
  },
  "language_info": {
   "codemirror_mode": {
    "name": "ipython",
    "version": 3
   },
   "file_extension": ".py",
   "mimetype": "text/x-python",
   "name": "python",
   "nbconvert_exporter": "python",
   "pygments_lexer": "ipython3",
   "version": "3.7.1"
  }
 },
 "nbformat": 4,
 "nbformat_minor": 2
}
